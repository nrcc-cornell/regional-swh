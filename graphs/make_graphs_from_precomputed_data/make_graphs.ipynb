{
 "cells": [
  {
   "cell_type": "code",
   "execution_count": 6,
   "metadata": {},
   "outputs": [],
   "source": [
    "import matplotlib.pyplot as plt\n",
    "import matplotlib as mpl\n",
    "import numpy as np\n",
    "from scipy.stats import linregress\n",
    "import json"
   ]
  },
  {
   "cell_type": "code",
   "execution_count": 7,
   "metadata": {},
   "outputs": [],
   "source": [
    "with open('data.json', 'r') as f:\n",
    "  data = json.load(f)"
   ]
  },
  {
   "cell_type": "code",
   "execution_count": 8,
   "metadata": {},
   "outputs": [],
   "source": [
    "def compute_trend(xs, ys):\n",
    "  slope, intercept, r, p, se = linregress(xs, ys)\n",
    "  trend = [slope * i + intercept for i in xs]\n",
    "  return trend, slope, p"
   ]
  },
  {
   "cell_type": "code",
   "execution_count": 9,
   "metadata": {},
   "outputs": [],
   "source": [
    "def create_graph(xs, ys, color, title, filename):\n",
    "  trend, slope, p = compute_trend(xs, ys)\n",
    "\n",
    "  fig = plt.figure(figsize=(10,4))\n",
    "  plt.plot(xs, trend, color=(0.6,0.6,0.6), linewidth=2)\n",
    "  plt.plot(xs, ys, color=color, linewidth=1, marker='o', markersize=4, clip_on=False, zorder=3)\n",
    "  ax = plt.subplot()\n",
    "  ax.spines[['left', 'right', 'top']].set_visible(False)\n",
    "  ax.spines['bottom'].set_color((0.5,0.5,0.5))\n",
    "  plt.grid(axis='y', color=(0.9,0.9,0.9))\n",
    "  plt.title(title)\n",
    "  plt.xlabel('Time(years)')\n",
    "  plt.ylabel('Number of 3+ hour events')\n",
    "  plt.xticks(rotation=22.5, ha='right', rotation_mode='anchor')\n",
    "  ax.set_ylim(ymin=0)\n",
    "  ax.tick_params(axis='y', length=0)\n",
    "\n",
    "  plt.text(\n",
    "    xs[-1] + 2,\n",
    "    trend[-1],\n",
    "    (f'slope={round(slope, 3)}\\np={round(p, 3)}'),\n",
    "    va='center',\n",
    "    ha='left',\n",
    "    bbox=dict(ec='black', fc='white', linewidth=1)\n",
    "  )\n",
    "\n",
    "  plt.savefig('./graphs/' + filename, bbox_inches='tight')\n",
    "  plt.close()"
   ]
  },
  {
   "cell_type": "code",
   "execution_count": 10,
   "metadata": {},
   "outputs": [],
   "source": [
    "for c in data:\n",
    "  for data_type, end_year, base_title in [('gale', 2021, 'Total Events Per Year With a Wind Speed ≥34kts for ≥25% of '),('swh', 2020, 'Events By Year With A Significant Wave Height ≥5m in ')]:\n",
    "    years = np.arange(1959, end_year + 1)\n",
    "    event_counts = np.array(c[data_type])\n",
    "    create_graph(years, event_counts, c['color'], base_title + c['region_name'], f'{data_type}_{\"-\".join(c[\"region_name\"].split(\" \"))}_{str(years[0])}-{str(years[-1])}.png')"
   ]
  }
 ],
 "metadata": {
  "kernelspec": {
   "display_name": "graphing",
   "language": "python",
   "name": "python3"
  },
  "language_info": {
   "codemirror_mode": {
    "name": "ipython",
    "version": 3
   },
   "file_extension": ".py",
   "mimetype": "text/x-python",
   "name": "python",
   "nbconvert_exporter": "python",
   "pygments_lexer": "ipython3",
   "version": "3.9.16"
  },
  "orig_nbformat": 4
 },
 "nbformat": 4,
 "nbformat_minor": 2
}
